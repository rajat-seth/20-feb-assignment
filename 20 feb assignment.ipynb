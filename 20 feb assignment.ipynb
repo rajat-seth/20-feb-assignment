{
 "cells": [
  {
   "cell_type": "markdown",
   "id": "c73d921a-2d1d-48df-b1ec-a621d135238f",
   "metadata": {},
   "source": [
    "Q1)\n",
    "\n",
    "Get and Post methods are the HTTP request methods used inside the <form> tag to send form data to the server."
   ]
  },
  {
   "cell_type": "markdown",
   "id": "8033377a-a61e-4427-bf1a-b4c9b37d1039",
   "metadata": {},
   "source": [
    "Q2)\n",
    "\n",
    "A request object is used to access the incoming data in flask."
   ]
  },
  {
   "cell_type": "markdown",
   "id": "e908509d-a316-4d18-9a03-d46daffd04d1",
   "metadata": {},
   "source": [
    "Q3)\n",
    "\n",
    "Redirect is used to return a response object and redirects the user to another target  location with specified status code."
   ]
  },
  {
   "cell_type": "markdown",
   "id": "b734af2b-2785-438d-8c93-224b20ca44e0",
   "metadata": {},
   "source": [
    "Q4)\n",
    "\n",
    "Templates are file that contains static data as well as placeholder for dynamic data.\n",
    "\n",
    "render_template is used to generate output from a template file based on the Jinja2 engine that is found in the application's templates folder."
   ]
  },
  {
   "cell_type": "markdown",
   "id": "bf5ef0dd-e9e4-46e8-a08f-f63c1f0982d3",
   "metadata": {},
   "source": [
    "Q5)\n",
    "\n",
    "from flask import Flask\n",
    "\n",
    "app = Flask(name)\n",
    "\n",
    "@app.route(\"/\") def hello_world(): return \"Hello, World!\""
   ]
  },
  {
   "cell_type": "code",
   "execution_count": null,
   "id": "12fd5f97-0c14-470f-bf3a-3b0064ef2560",
   "metadata": {},
   "outputs": [],
   "source": []
  }
 ],
 "metadata": {
  "kernelspec": {
   "display_name": "Python 3 (ipykernel)",
   "language": "python",
   "name": "python3"
  },
  "language_info": {
   "codemirror_mode": {
    "name": "ipython",
    "version": 3
   },
   "file_extension": ".py",
   "mimetype": "text/x-python",
   "name": "python",
   "nbconvert_exporter": "python",
   "pygments_lexer": "ipython3",
   "version": "3.10.8"
  }
 },
 "nbformat": 4,
 "nbformat_minor": 5
}
